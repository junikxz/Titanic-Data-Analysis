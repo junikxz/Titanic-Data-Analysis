{
 "cells": [
  {
   "metadata": {},
   "cell_type": "markdown",
   "source": [
    "Investigasi sampel data titanic berikut dengan cara :\n",
    "\n",
    "Cek secara head, tail, sample, info lalu observasi apa yang bisa anda peroleh ?\n",
    "Lakukan Statistical Summary dengan mengekstrak informasi yang didapat dari observasi anda ?\n",
    "Cek apakah ada duplikat dan bagaimana handlenya ?\n",
    "Cek apakah ada missing value, berapa persentasenya jika ada, dan bagaimana cara handlenya ?"
   ],
   "id": "6f9b668006d9f845"
  },
  {
   "metadata": {
    "ExecuteTime": {
     "end_time": "2025-04-18T10:29:27.205286Z",
     "start_time": "2025-04-18T10:29:26.305219Z"
    }
   },
   "cell_type": "code",
   "source": [
    "import pandas as pd\n",
    "\n",
    "df = pd.read_excel('titanic.xlsx')\n",
    "data = df.copy()"
   ],
   "id": "a676a338501f54ec",
   "outputs": [],
   "execution_count": 1
  },
  {
   "metadata": {
    "ExecuteTime": {
     "end_time": "2025-04-18T10:33:10.140115Z",
     "start_time": "2025-04-18T10:33:10.135078Z"
    }
   },
   "cell_type": "code",
   "source": "data.info()",
   "id": "ac44fe99aa4da8ff",
   "outputs": [
    {
     "name": "stdout",
     "output_type": "stream",
     "text": [
      "<class 'pandas.core.frame.DataFrame'>\n",
      "RangeIndex: 500 entries, 0 to 499\n",
      "Data columns (total 4 columns):\n",
      " #   Column    Non-Null Count  Dtype  \n",
      "---  ------    --------------  -----  \n",
      " 0   survived  500 non-null    int64  \n",
      " 1   name      500 non-null    object \n",
      " 2   sex       500 non-null    object \n",
      " 3   age       451 non-null    float64\n",
      "dtypes: float64(1), int64(1), object(2)\n",
      "memory usage: 15.8+ KB\n"
     ]
    }
   ],
   "execution_count": 3
  },
  {
   "metadata": {
    "ExecuteTime": {
     "end_time": "2025-04-18T08:51:58.376546Z",
     "start_time": "2025-04-18T08:51:58.369422Z"
    }
   },
   "cell_type": "code",
   "source": "data.head()",
   "id": "5ecfbc848bd8a0bb",
   "outputs": [
    {
     "data": {
      "text/plain": [
       "   survived                                             name     sex      age\n",
       "0         1                    Allen, Miss. Elisabeth Walton  female  29.0000\n",
       "1         1                   Allison, Master. Hudson Trevor    male   0.9167\n",
       "2         0                     Allison, Miss. Helen Loraine  female   2.0000\n",
       "3         0             Allison, Mr. Hudson Joshua Creighton    male  30.0000\n",
       "4         0  Allison, Mrs. Hudson J C (Bessie Waldo Daniels)  female  25.0000"
      ],
      "text/html": [
       "<div>\n",
       "<style scoped>\n",
       "    .dataframe tbody tr th:only-of-type {\n",
       "        vertical-align: middle;\n",
       "    }\n",
       "\n",
       "    .dataframe tbody tr th {\n",
       "        vertical-align: top;\n",
       "    }\n",
       "\n",
       "    .dataframe thead th {\n",
       "        text-align: right;\n",
       "    }\n",
       "</style>\n",
       "<table border=\"1\" class=\"dataframe\">\n",
       "  <thead>\n",
       "    <tr style=\"text-align: right;\">\n",
       "      <th></th>\n",
       "      <th>survived</th>\n",
       "      <th>name</th>\n",
       "      <th>sex</th>\n",
       "      <th>age</th>\n",
       "    </tr>\n",
       "  </thead>\n",
       "  <tbody>\n",
       "    <tr>\n",
       "      <th>0</th>\n",
       "      <td>1</td>\n",
       "      <td>Allen, Miss. Elisabeth Walton</td>\n",
       "      <td>female</td>\n",
       "      <td>29.0000</td>\n",
       "    </tr>\n",
       "    <tr>\n",
       "      <th>1</th>\n",
       "      <td>1</td>\n",
       "      <td>Allison, Master. Hudson Trevor</td>\n",
       "      <td>male</td>\n",
       "      <td>0.9167</td>\n",
       "    </tr>\n",
       "    <tr>\n",
       "      <th>2</th>\n",
       "      <td>0</td>\n",
       "      <td>Allison, Miss. Helen Loraine</td>\n",
       "      <td>female</td>\n",
       "      <td>2.0000</td>\n",
       "    </tr>\n",
       "    <tr>\n",
       "      <th>3</th>\n",
       "      <td>0</td>\n",
       "      <td>Allison, Mr. Hudson Joshua Creighton</td>\n",
       "      <td>male</td>\n",
       "      <td>30.0000</td>\n",
       "    </tr>\n",
       "    <tr>\n",
       "      <th>4</th>\n",
       "      <td>0</td>\n",
       "      <td>Allison, Mrs. Hudson J C (Bessie Waldo Daniels)</td>\n",
       "      <td>female</td>\n",
       "      <td>25.0000</td>\n",
       "    </tr>\n",
       "  </tbody>\n",
       "</table>\n",
       "</div>"
      ]
     },
     "execution_count": 7,
     "metadata": {},
     "output_type": "execute_result"
    }
   ],
   "execution_count": 7
  },
  {
   "metadata": {
    "ExecuteTime": {
     "end_time": "2025-04-18T08:52:09.540326Z",
     "start_time": "2025-04-18T08:52:09.532699Z"
    }
   },
   "cell_type": "code",
   "source": "data.tail()",
   "id": "dcfbfbea7b08d16a",
   "outputs": [
    {
     "data": {
      "text/plain": [
       "     survived                                     name     sex   age\n",
       "495         1  Mallet, Mrs. Albert (Antoinette Magnin)  female  24.0\n",
       "496         0        Mangiavacchi, Mr. Serafino Emilio    male   NaN\n",
       "497         0               Matthews, Mr. William John    male  30.0\n",
       "498         0                Maybery, Mr. Frank Hubert    male  40.0\n",
       "499         0                McCrae, Mr. Arthur Gordon    male  32.0"
      ],
      "text/html": [
       "<div>\n",
       "<style scoped>\n",
       "    .dataframe tbody tr th:only-of-type {\n",
       "        vertical-align: middle;\n",
       "    }\n",
       "\n",
       "    .dataframe tbody tr th {\n",
       "        vertical-align: top;\n",
       "    }\n",
       "\n",
       "    .dataframe thead th {\n",
       "        text-align: right;\n",
       "    }\n",
       "</style>\n",
       "<table border=\"1\" class=\"dataframe\">\n",
       "  <thead>\n",
       "    <tr style=\"text-align: right;\">\n",
       "      <th></th>\n",
       "      <th>survived</th>\n",
       "      <th>name</th>\n",
       "      <th>sex</th>\n",
       "      <th>age</th>\n",
       "    </tr>\n",
       "  </thead>\n",
       "  <tbody>\n",
       "    <tr>\n",
       "      <th>495</th>\n",
       "      <td>1</td>\n",
       "      <td>Mallet, Mrs. Albert (Antoinette Magnin)</td>\n",
       "      <td>female</td>\n",
       "      <td>24.0</td>\n",
       "    </tr>\n",
       "    <tr>\n",
       "      <th>496</th>\n",
       "      <td>0</td>\n",
       "      <td>Mangiavacchi, Mr. Serafino Emilio</td>\n",
       "      <td>male</td>\n",
       "      <td>NaN</td>\n",
       "    </tr>\n",
       "    <tr>\n",
       "      <th>497</th>\n",
       "      <td>0</td>\n",
       "      <td>Matthews, Mr. William John</td>\n",
       "      <td>male</td>\n",
       "      <td>30.0</td>\n",
       "    </tr>\n",
       "    <tr>\n",
       "      <th>498</th>\n",
       "      <td>0</td>\n",
       "      <td>Maybery, Mr. Frank Hubert</td>\n",
       "      <td>male</td>\n",
       "      <td>40.0</td>\n",
       "    </tr>\n",
       "    <tr>\n",
       "      <th>499</th>\n",
       "      <td>0</td>\n",
       "      <td>McCrae, Mr. Arthur Gordon</td>\n",
       "      <td>male</td>\n",
       "      <td>32.0</td>\n",
       "    </tr>\n",
       "  </tbody>\n",
       "</table>\n",
       "</div>"
      ]
     },
     "execution_count": 9,
     "metadata": {},
     "output_type": "execute_result"
    }
   ],
   "execution_count": 9
  },
  {
   "metadata": {
    "ExecuteTime": {
     "end_time": "2025-04-18T08:52:38.897338Z",
     "start_time": "2025-04-18T08:52:38.889592Z"
    }
   },
   "cell_type": "code",
   "source": "data.sample(5) #mengambil random sample dari data",
   "id": "bd51c5754a872564",
   "outputs": [
    {
     "data": {
      "text/plain": [
       "     survived                                            name     sex   age\n",
       "190         1                   Longley, Miss. Gretchen Fiske  female  21.0\n",
       "34          0                        Borebank, Mr. John James    male  42.0\n",
       "247         1  Rothschild, Mrs. Martin (Elizabeth L. Barrett)  female  54.0\n",
       "68          1                        Chevre, Mr. Paul Romaine    male  45.0\n",
       "433         1                              Harris, Mr. George    male  62.0"
      ],
      "text/html": [
       "<div>\n",
       "<style scoped>\n",
       "    .dataframe tbody tr th:only-of-type {\n",
       "        vertical-align: middle;\n",
       "    }\n",
       "\n",
       "    .dataframe tbody tr th {\n",
       "        vertical-align: top;\n",
       "    }\n",
       "\n",
       "    .dataframe thead th {\n",
       "        text-align: right;\n",
       "    }\n",
       "</style>\n",
       "<table border=\"1\" class=\"dataframe\">\n",
       "  <thead>\n",
       "    <tr style=\"text-align: right;\">\n",
       "      <th></th>\n",
       "      <th>survived</th>\n",
       "      <th>name</th>\n",
       "      <th>sex</th>\n",
       "      <th>age</th>\n",
       "    </tr>\n",
       "  </thead>\n",
       "  <tbody>\n",
       "    <tr>\n",
       "      <th>190</th>\n",
       "      <td>1</td>\n",
       "      <td>Longley, Miss. Gretchen Fiske</td>\n",
       "      <td>female</td>\n",
       "      <td>21.0</td>\n",
       "    </tr>\n",
       "    <tr>\n",
       "      <th>34</th>\n",
       "      <td>0</td>\n",
       "      <td>Borebank, Mr. John James</td>\n",
       "      <td>male</td>\n",
       "      <td>42.0</td>\n",
       "    </tr>\n",
       "    <tr>\n",
       "      <th>247</th>\n",
       "      <td>1</td>\n",
       "      <td>Rothschild, Mrs. Martin (Elizabeth L. Barrett)</td>\n",
       "      <td>female</td>\n",
       "      <td>54.0</td>\n",
       "    </tr>\n",
       "    <tr>\n",
       "      <th>68</th>\n",
       "      <td>1</td>\n",
       "      <td>Chevre, Mr. Paul Romaine</td>\n",
       "      <td>male</td>\n",
       "      <td>45.0</td>\n",
       "    </tr>\n",
       "    <tr>\n",
       "      <th>433</th>\n",
       "      <td>1</td>\n",
       "      <td>Harris, Mr. George</td>\n",
       "      <td>male</td>\n",
       "      <td>62.0</td>\n",
       "    </tr>\n",
       "  </tbody>\n",
       "</table>\n",
       "</div>"
      ]
     },
     "execution_count": 14,
     "metadata": {},
     "output_type": "execute_result"
    }
   ],
   "execution_count": 14
  },
  {
   "metadata": {
    "ExecuteTime": {
     "end_time": "2025-04-18T08:53:10.758653Z",
     "start_time": "2025-04-18T08:53:10.753405Z"
    }
   },
   "cell_type": "code",
   "source": "data.info()",
   "id": "49d726cc4e3f5b1b",
   "outputs": [
    {
     "name": "stdout",
     "output_type": "stream",
     "text": [
      "<class 'pandas.core.frame.DataFrame'>\n",
      "RangeIndex: 500 entries, 0 to 499\n",
      "Data columns (total 4 columns):\n",
      " #   Column    Non-Null Count  Dtype  \n",
      "---  ------    --------------  -----  \n",
      " 0   survived  500 non-null    int64  \n",
      " 1   name      500 non-null    object \n",
      " 2   sex       500 non-null    object \n",
      " 3   age       451 non-null    float64\n",
      "dtypes: float64(1), int64(1), object(2)\n",
      "memory usage: 15.8+ KB\n"
     ]
    }
   ],
   "execution_count": 16
  },
  {
   "metadata": {
    "ExecuteTime": {
     "end_time": "2025-04-18T08:56:45.768433Z",
     "start_time": "2025-04-18T08:56:45.760624Z"
    }
   },
   "cell_type": "code",
   "source": "data.columns #melihat kolom apa saja yang ada pada excel",
   "id": "cc3774c6c2e3e8da",
   "outputs": [
    {
     "data": {
      "text/plain": [
       "Index(['survived', 'name', 'sex', 'age'], dtype='object')"
      ]
     },
     "execution_count": 19,
     "metadata": {},
     "output_type": "execute_result"
    }
   ],
   "execution_count": 19
  },
  {
   "metadata": {
    "ExecuteTime": {
     "end_time": "2025-04-18T09:00:44.463002Z",
     "start_time": "2025-04-18T09:00:44.451696Z"
    }
   },
   "cell_type": "code",
   "source": [
    "#kelompokan untuk data jenis kategori dan numerik\n",
    "categoricals = ['name', 'sex']\n",
    "numericals = ['survived', 'age']"
   ],
   "id": "25e6cbc0cba99864",
   "outputs": [],
   "execution_count": 21
  },
  {
   "metadata": {
    "ExecuteTime": {
     "end_time": "2025-04-18T09:01:34.119850Z",
     "start_time": "2025-04-18T09:01:34.107676Z"
    }
   },
   "cell_type": "code",
   "source": [
    "#perintah ini untuk menunjukkan statistical summary dari data numerik\n",
    "data[numericals].describe()"
   ],
   "id": "1fd6e3ca70af27b7",
   "outputs": [
    {
     "data": {
      "text/plain": [
       "         survived         age\n",
       "count  500.000000  451.000000\n",
       "mean     0.540000   35.917775\n",
       "std      0.498897   14.766454\n",
       "min      0.000000    0.666700\n",
       "25%      0.000000   24.000000\n",
       "50%      1.000000   35.000000\n",
       "75%      1.000000   47.000000\n",
       "max      1.000000   80.000000"
      ],
      "text/html": [
       "<div>\n",
       "<style scoped>\n",
       "    .dataframe tbody tr th:only-of-type {\n",
       "        vertical-align: middle;\n",
       "    }\n",
       "\n",
       "    .dataframe tbody tr th {\n",
       "        vertical-align: top;\n",
       "    }\n",
       "\n",
       "    .dataframe thead th {\n",
       "        text-align: right;\n",
       "    }\n",
       "</style>\n",
       "<table border=\"1\" class=\"dataframe\">\n",
       "  <thead>\n",
       "    <tr style=\"text-align: right;\">\n",
       "      <th></th>\n",
       "      <th>survived</th>\n",
       "      <th>age</th>\n",
       "    </tr>\n",
       "  </thead>\n",
       "  <tbody>\n",
       "    <tr>\n",
       "      <th>count</th>\n",
       "      <td>500.000000</td>\n",
       "      <td>451.000000</td>\n",
       "    </tr>\n",
       "    <tr>\n",
       "      <th>mean</th>\n",
       "      <td>0.540000</td>\n",
       "      <td>35.917775</td>\n",
       "    </tr>\n",
       "    <tr>\n",
       "      <th>std</th>\n",
       "      <td>0.498897</td>\n",
       "      <td>14.766454</td>\n",
       "    </tr>\n",
       "    <tr>\n",
       "      <th>min</th>\n",
       "      <td>0.000000</td>\n",
       "      <td>0.666700</td>\n",
       "    </tr>\n",
       "    <tr>\n",
       "      <th>25%</th>\n",
       "      <td>0.000000</td>\n",
       "      <td>24.000000</td>\n",
       "    </tr>\n",
       "    <tr>\n",
       "      <th>50%</th>\n",
       "      <td>1.000000</td>\n",
       "      <td>35.000000</td>\n",
       "    </tr>\n",
       "    <tr>\n",
       "      <th>75%</th>\n",
       "      <td>1.000000</td>\n",
       "      <td>47.000000</td>\n",
       "    </tr>\n",
       "    <tr>\n",
       "      <th>max</th>\n",
       "      <td>1.000000</td>\n",
       "      <td>80.000000</td>\n",
       "    </tr>\n",
       "  </tbody>\n",
       "</table>\n",
       "</div>"
      ]
     },
     "execution_count": 23,
     "metadata": {},
     "output_type": "execute_result"
    }
   ],
   "execution_count": 23
  },
  {
   "metadata": {
    "ExecuteTime": {
     "end_time": "2025-04-18T09:03:25.178499Z",
     "start_time": "2025-04-18T09:03:25.170581Z"
    }
   },
   "cell_type": "code",
   "source": "data[categoricals].describe()",
   "id": "91d6da43c2ef89fa",
   "outputs": [
    {
     "data": {
      "text/plain": [
       "                                  name   sex\n",
       "count                              500   500\n",
       "unique                             499     2\n",
       "top     Eustis, Miss. Elizabeth Mussey  male\n",
       "freq                                 2   288"
      ],
      "text/html": [
       "<div>\n",
       "<style scoped>\n",
       "    .dataframe tbody tr th:only-of-type {\n",
       "        vertical-align: middle;\n",
       "    }\n",
       "\n",
       "    .dataframe tbody tr th {\n",
       "        vertical-align: top;\n",
       "    }\n",
       "\n",
       "    .dataframe thead th {\n",
       "        text-align: right;\n",
       "    }\n",
       "</style>\n",
       "<table border=\"1\" class=\"dataframe\">\n",
       "  <thead>\n",
       "    <tr style=\"text-align: right;\">\n",
       "      <th></th>\n",
       "      <th>name</th>\n",
       "      <th>sex</th>\n",
       "    </tr>\n",
       "  </thead>\n",
       "  <tbody>\n",
       "    <tr>\n",
       "      <th>count</th>\n",
       "      <td>500</td>\n",
       "      <td>500</td>\n",
       "    </tr>\n",
       "    <tr>\n",
       "      <th>unique</th>\n",
       "      <td>499</td>\n",
       "      <td>2</td>\n",
       "    </tr>\n",
       "    <tr>\n",
       "      <th>top</th>\n",
       "      <td>Eustis, Miss. Elizabeth Mussey</td>\n",
       "      <td>male</td>\n",
       "    </tr>\n",
       "    <tr>\n",
       "      <th>freq</th>\n",
       "      <td>2</td>\n",
       "      <td>288</td>\n",
       "    </tr>\n",
       "  </tbody>\n",
       "</table>\n",
       "</div>"
      ]
     },
     "execution_count": 25,
     "metadata": {},
     "output_type": "execute_result"
    }
   ],
   "execution_count": 25
  },
  {
   "metadata": {
    "ExecuteTime": {
     "end_time": "2025-04-18T09:04:40.945537Z",
     "start_time": "2025-04-18T09:04:40.942055Z"
    }
   },
   "cell_type": "code",
   "source": [
    "for col in categoricals:\n",
    "    print(data[col].value_counts())"
   ],
   "id": "cd64201b96cd010b",
   "outputs": [
    {
     "name": "stdout",
     "output_type": "stream",
     "text": [
      "name\n",
      "Eustis, Miss. Elizabeth Mussey                          2\n",
      "Allen, Miss. Elisabeth Walton                           1\n",
      "Angle, Mrs. William A (Florence \"Mary\" Agnes Hughes)    1\n",
      "Becker, Miss. Ruth Elizabeth                            1\n",
      "Becker, Miss. Marion Louise                             1\n",
      "                                                       ..\n",
      "Holverson, Mr. Alexander Oskar                          1\n",
      "Hogeboom, Mrs. John C (Anna Andrews)                    1\n",
      "Hippach, Mrs. Louis Albert (Ida Sophia Fischer)         1\n",
      "Hippach, Miss. Jean Gertrude                            1\n",
      "McCrae, Mr. Arthur Gordon                               1\n",
      "Name: count, Length: 499, dtype: int64\n",
      "sex\n",
      "male      288\n",
      "female    212\n",
      "Name: count, dtype: int64\n"
     ]
    }
   ],
   "execution_count": 29
  },
  {
   "metadata": {
    "ExecuteTime": {
     "end_time": "2025-04-18T09:05:14.383816Z",
     "start_time": "2025-04-18T09:05:14.379715Z"
    }
   },
   "cell_type": "code",
   "source": [
    "for col in numericals:\n",
    "    print(data[col].value_counts())"
   ],
   "id": "efc0de83ed8f8cdc",
   "outputs": [
    {
     "name": "stdout",
     "output_type": "stream",
     "text": [
      "survived\n",
      "1    270\n",
      "0    230\n",
      "Name: count, dtype: int64\n",
      "age\n",
      "24.0    23\n",
      "30.0    20\n",
      "36.0    19\n",
      "18.0    14\n",
      "45.0    14\n",
      "        ..\n",
      "11.0     1\n",
      "59.0     1\n",
      "80.0     1\n",
      "2.0      1\n",
      "3.0      1\n",
      "Name: count, Length: 73, dtype: int64\n"
     ]
    }
   ],
   "execution_count": 31
  },
  {
   "metadata": {},
   "cell_type": "markdown",
   "source": "PEMBERSIHAN DATA",
   "id": "12b3d1764ae2e8f8"
  },
  {
   "metadata": {
    "ExecuteTime": {
     "end_time": "2025-04-18T09:05:42.353135Z",
     "start_time": "2025-04-18T09:05:42.346190Z"
    }
   },
   "cell_type": "code",
   "source": "len(data)",
   "id": "ed9a79bb3998dc97",
   "outputs": [
    {
     "data": {
      "text/plain": [
       "500"
      ]
     },
     "execution_count": 32,
     "metadata": {},
     "output_type": "execute_result"
    }
   ],
   "execution_count": 32
  },
  {
   "metadata": {
    "ExecuteTime": {
     "end_time": "2025-04-18T09:06:18.129514Z",
     "start_time": "2025-04-18T09:06:18.122438Z"
    }
   },
   "cell_type": "code",
   "source": "len(data.drop_duplicates())",
   "id": "d7fcd79d4f3ab632",
   "outputs": [
    {
     "data": {
      "text/plain": [
       "499"
      ]
     },
     "execution_count": 34,
     "metadata": {},
     "output_type": "execute_result"
    }
   ],
   "execution_count": 34
  },
  {
   "metadata": {
    "ExecuteTime": {
     "end_time": "2025-04-18T09:07:08.114869Z",
     "start_time": "2025-04-18T09:07:08.101751Z"
    }
   },
   "cell_type": "code",
   "source": [
    "duplicates = data[data.duplicated(keep=False)]\n",
    "duplicates"
   ],
   "id": "6f4a5cd2579724ec",
   "outputs": [
    {
     "data": {
      "text/plain": [
       "     survived                            name     sex   age\n",
       "104         1  Eustis, Miss. Elizabeth Mussey  female  54.0\n",
       "349         1  Eustis, Miss. Elizabeth Mussey  female  54.0"
      ],
      "text/html": [
       "<div>\n",
       "<style scoped>\n",
       "    .dataframe tbody tr th:only-of-type {\n",
       "        vertical-align: middle;\n",
       "    }\n",
       "\n",
       "    .dataframe tbody tr th {\n",
       "        vertical-align: top;\n",
       "    }\n",
       "\n",
       "    .dataframe thead th {\n",
       "        text-align: right;\n",
       "    }\n",
       "</style>\n",
       "<table border=\"1\" class=\"dataframe\">\n",
       "  <thead>\n",
       "    <tr style=\"text-align: right;\">\n",
       "      <th></th>\n",
       "      <th>survived</th>\n",
       "      <th>name</th>\n",
       "      <th>sex</th>\n",
       "      <th>age</th>\n",
       "    </tr>\n",
       "  </thead>\n",
       "  <tbody>\n",
       "    <tr>\n",
       "      <th>104</th>\n",
       "      <td>1</td>\n",
       "      <td>Eustis, Miss. Elizabeth Mussey</td>\n",
       "      <td>female</td>\n",
       "      <td>54.0</td>\n",
       "    </tr>\n",
       "    <tr>\n",
       "      <th>349</th>\n",
       "      <td>1</td>\n",
       "      <td>Eustis, Miss. Elizabeth Mussey</td>\n",
       "      <td>female</td>\n",
       "      <td>54.0</td>\n",
       "    </tr>\n",
       "  </tbody>\n",
       "</table>\n",
       "</div>"
      ]
     },
     "execution_count": 38,
     "metadata": {},
     "output_type": "execute_result"
    }
   ],
   "execution_count": 38
  },
  {
   "metadata": {
    "ExecuteTime": {
     "end_time": "2025-04-18T09:10:49.317262Z",
     "start_time": "2025-04-18T09:10:49.307332Z"
    }
   },
   "cell_type": "code",
   "source": [
    "dup_count = duplicates.groupby(list(data.columns)).size().reset_index(name = \"duplicates count\")\n",
    "\n",
    "sorted_duplicates = dup_count.sort_values(by = ['duplicates count'], ascending = False)\n",
    "\n",
    "sorted_duplicates"
   ],
   "id": "53b177c8b2a4c3f5",
   "outputs": [
    {
     "data": {
      "text/plain": [
       "   survived                            name     sex   age  duplicates count\n",
       "0         1  Eustis, Miss. Elizabeth Mussey  female  54.0                 2"
      ],
      "text/html": [
       "<div>\n",
       "<style scoped>\n",
       "    .dataframe tbody tr th:only-of-type {\n",
       "        vertical-align: middle;\n",
       "    }\n",
       "\n",
       "    .dataframe tbody tr th {\n",
       "        vertical-align: top;\n",
       "    }\n",
       "\n",
       "    .dataframe thead th {\n",
       "        text-align: right;\n",
       "    }\n",
       "</style>\n",
       "<table border=\"1\" class=\"dataframe\">\n",
       "  <thead>\n",
       "    <tr style=\"text-align: right;\">\n",
       "      <th></th>\n",
       "      <th>survived</th>\n",
       "      <th>name</th>\n",
       "      <th>sex</th>\n",
       "      <th>age</th>\n",
       "      <th>duplicates count</th>\n",
       "    </tr>\n",
       "  </thead>\n",
       "  <tbody>\n",
       "    <tr>\n",
       "      <th>0</th>\n",
       "      <td>1</td>\n",
       "      <td>Eustis, Miss. Elizabeth Mussey</td>\n",
       "      <td>female</td>\n",
       "      <td>54.0</td>\n",
       "      <td>2</td>\n",
       "    </tr>\n",
       "  </tbody>\n",
       "</table>\n",
       "</div>"
      ]
     },
     "execution_count": 49,
     "metadata": {},
     "output_type": "execute_result"
    }
   ],
   "execution_count": 49
  },
  {
   "metadata": {
    "ExecuteTime": {
     "end_time": "2025-04-18T09:11:47.219545Z",
     "start_time": "2025-04-18T09:11:47.215012Z"
    }
   },
   "cell_type": "code",
   "source": [
    "data = data.drop_duplicates()\n",
    "\n",
    "len(data)"
   ],
   "id": "d1cd6073f39c117f",
   "outputs": [
    {
     "data": {
      "text/plain": [
       "499"
      ]
     },
     "execution_count": 52,
     "metadata": {},
     "output_type": "execute_result"
    }
   ],
   "execution_count": 52
  },
  {
   "metadata": {},
   "cell_type": "markdown",
   "source": "MISSING VALUE",
   "id": "b0a1da2af41da124"
  },
  {
   "metadata": {
    "ExecuteTime": {
     "end_time": "2025-04-18T09:16:22.655807Z",
     "start_time": "2025-04-18T09:16:22.648875Z"
    }
   },
   "cell_type": "code",
   "source": [
    "#melihat jumlah value null untuk setiap kolom\n",
    "data.isna().sum() #bisa juga gunakan data.isnull().sum()"
   ],
   "id": "eea905cb431bc0bb",
   "outputs": [
    {
     "data": {
      "text/plain": [
       "survived     0\n",
       "name         0\n",
       "sex          0\n",
       "age         49\n",
       "dtype: int64"
      ]
     },
     "execution_count": 60,
     "metadata": {},
     "output_type": "execute_result"
    }
   ],
   "execution_count": 60
  },
  {
   "metadata": {
    "ExecuteTime": {
     "end_time": "2025-04-18T09:17:25.094757Z",
     "start_time": "2025-04-18T09:17:25.087806Z"
    }
   },
   "cell_type": "code",
   "source": [
    "for column in data.columns:\n",
    "    print(f\"============{column}==========\")\n",
    "    print(data[column].value_counts())\n",
    "    print()\n"
   ],
   "id": "888be895c00594bf",
   "outputs": [
    {
     "name": "stdout",
     "output_type": "stream",
     "text": [
      "============survived==========\n",
      "survived\n",
      "1    269\n",
      "0    230\n",
      "Name: count, dtype: int64\n",
      "\n",
      "============name==========\n",
      "name\n",
      "Allen, Miss. Elisabeth Walton                      1\n",
      "Angle, Mr. William A                               1\n",
      "Becker, Miss. Ruth Elizabeth                       1\n",
      "Becker, Miss. Marion Louise                        1\n",
      "Becker, Master. Richard F                          1\n",
      "                                                  ..\n",
      "Hogeboom, Mrs. John C (Anna Andrews)               1\n",
      "Hippach, Mrs. Louis Albert (Ida Sophia Fischer)    1\n",
      "Hippach, Miss. Jean Gertrude                       1\n",
      "Hipkins, Mr. William Edward                        1\n",
      "McCrae, Mr. Arthur Gordon                          1\n",
      "Name: count, Length: 499, dtype: int64\n",
      "\n",
      "============sex==========\n",
      "sex\n",
      "male      288\n",
      "female    211\n",
      "Name: count, dtype: int64\n",
      "\n",
      "============age==========\n",
      "age\n",
      "24.0    23\n",
      "30.0    20\n",
      "36.0    19\n",
      "18.0    14\n",
      "45.0    14\n",
      "        ..\n",
      "11.0     1\n",
      "59.0     1\n",
      "80.0     1\n",
      "2.0      1\n",
      "3.0      1\n",
      "Name: count, Length: 73, dtype: int64\n",
      "\n"
     ]
    }
   ],
   "execution_count": 62
  },
  {
   "metadata": {
    "ExecuteTime": {
     "end_time": "2025-04-18T09:19:25.402953Z",
     "start_time": "2025-04-18T09:19:25.393082Z"
    }
   },
   "cell_type": "code",
   "source": [
    "print(data['age'].dtype)\n",
    "print(data['age'].median())"
   ],
   "id": "15b707a8e99118aa",
   "outputs": [
    {
     "name": "stdout",
     "output_type": "stream",
     "text": [
      "float64\n",
      "35.0\n"
     ]
    }
   ],
   "execution_count": 65
  },
  {
   "metadata": {
    "ExecuteTime": {
     "end_time": "2025-04-18T09:25:46.883225Z",
     "start_time": "2025-04-18T09:25:46.874997Z"
    }
   },
   "cell_type": "code",
   "source": [
    "for column in data.select_dtypes(include=['number']).columns:\n",
    "    data[column] = data[column].fillna(data[column].median())"
   ],
   "id": "8611a28db9f95cb1",
   "outputs": [],
   "execution_count": 80
  },
  {
   "metadata": {
    "ExecuteTime": {
     "end_time": "2025-04-18T09:26:00.948112Z",
     "start_time": "2025-04-18T09:26:00.942162Z"
    }
   },
   "cell_type": "code",
   "source": "data.isna().sum()",
   "id": "be951d65f9c91418",
   "outputs": [
    {
     "data": {
      "text/plain": [
       "survived    0\n",
       "name        0\n",
       "sex         0\n",
       "age         0\n",
       "dtype: int64"
      ]
     },
     "execution_count": 81,
     "metadata": {},
     "output_type": "execute_result"
    }
   ],
   "execution_count": 81
  },
  {
   "metadata": {
    "ExecuteTime": {
     "end_time": "2025-04-18T09:26:06.694520Z",
     "start_time": "2025-04-18T09:26:06.666296Z"
    }
   },
   "cell_type": "code",
   "source": "data.info()",
   "id": "f3f05dc900405624",
   "outputs": [
    {
     "name": "stdout",
     "output_type": "stream",
     "text": [
      "<class 'pandas.core.frame.DataFrame'>\n",
      "Index: 499 entries, 0 to 499\n",
      "Data columns (total 4 columns):\n",
      " #   Column    Non-Null Count  Dtype  \n",
      "---  ------    --------------  -----  \n",
      " 0   survived  499 non-null    int64  \n",
      " 1   name      499 non-null    object \n",
      " 2   sex       499 non-null    object \n",
      " 3   age       499 non-null    float64\n",
      "dtypes: float64(1), int64(1), object(2)\n",
      "memory usage: 19.5+ KB\n"
     ]
    }
   ],
   "execution_count": 82
  },
  {
   "metadata": {},
   "cell_type": "markdown",
   "source": "VISUALISASI",
   "id": "d0062f1c9fe29389"
  },
  {
   "metadata": {
    "ExecuteTime": {
     "end_time": "2025-04-18T14:52:38.284370Z",
     "start_time": "2025-04-18T14:52:38.198645Z"
    }
   },
   "cell_type": "code",
   "source": [
    "import matplotlib.pyplot as plt\n",
    "\n",
    "plt.figure(figsize=(6,4))\n",
    "data['sex'].value_counts().plot(kind='bar', color=['blue', 'orange'])\n",
    "plt.title(\"Jumlah penumpang berdasarkan jenis kelamin\")\n",
    "plt.xlabel(\"Jenis kelamin\")\n",
    "plt.ylabel(\"Jumlah penumpang\")\n",
    "plt.tight_layout()\n",
    "plt.show()"
   ],
   "id": "c5f8037100cb7b44",
   "outputs": [
    {
     "data": {
      "text/plain": [
       "<Figure size 600x400 with 1 Axes>"
      ],
      "image/png": "[encoded data removed]"
     },
     "metadata": {},
     "output_type": "display_data"
    }
   ],
   "execution_count": 10
  },
  {
   "metadata": {
    "ExecuteTime": {
     "end_time": "2025-04-18T14:56:40.728721Z",
     "start_time": "2025-04-18T14:56:40.580199Z"
    }
   },
   "cell_type": "code",
   "source": [
    "plt.figure(figsize=(6,4))\n",
    "plt.hist(data['age'], bins = 20, color='red', edgecolor='black')\n",
    "plt.title(\"Distribusi umur\")\n",
    "plt.xlabel(\"Umur\")\n",
    "plt.ylabel(\"Jumlah penumpang\")\n",
    "plt.tight_layout()\n",
    "plt.show()\n"
   ],
   "id": "d39985254b9b33e4",
   "outputs": [
    {
     "data": {
      "text/plain": [
       "<Figure size 600x400 with 1 Axes>"
      ],
      "image/png": "[encoded data removed]"
     },
     "metadata": {},
     "output_type": "display_data"
    }
   ],
   "execution_count": 11
  },
  {
   "metadata": {
    "ExecuteTime": {
     "end_time": "2025-04-18T09:49:13.156337Z",
     "start_time": "2025-04-18T09:49:13.066880Z"
    }
   },
   "cell_type": "code",
   "source": [
    "plt.figure(figsize=(6,4))\n",
    "plt.scatter(data['age'], data['survived'], alpha= 0.6, c=data['survived'])\n",
    "plt.title(\"Persebaran umur dan status hidup\")\n",
    "plt.xlabel(\"Umur\")\n",
    "plt.ylabel(\"Status hidup (0 = tidak, 1 = hidup)\")\n",
    "plt.yticks([0,1])\n",
    "plt.tight_layout()\n",
    "plt.show()\n"
   ],
   "id": "91d9aed3ad9b1d05",
   "outputs": [
    {
     "data": {
      "text/plain": [
       "<Figure size 600x400 with 1 Axes>"
      ],
      "image/png": "[encoded data removed]"
     },
     "metadata": {},
     "output_type": "display_data"
    }
   ],
   "execution_count": 114
  },
  {
   "metadata": {
    "ExecuteTime": {
     "end_time": "2025-04-18T09:45:37.803068Z",
     "start_time": "2025-04-18T09:45:37.724243Z"
    }
   },
   "cell_type": "code",
   "source": [
    "plt.figure(figsize=(6,4))\n",
    "data.groupby('sex')['survived'].mean().plot(kind='bar', color=['blue', 'red'])\n",
    "plt.title(\"Rata - rata keberlangsungan hidup\")\n",
    "plt.xlabel(\"Jenis Kelamin\")\n",
    "plt.ylabel(\"Value survive\")\n",
    "plt.tight_layout()\n",
    "plt.show()"
   ],
   "id": "84ae60d4afe89d9f",
   "outputs": [
    {
     "data": {
      "text/plain": [
       "<Figure size 600x400 with 1 Axes>"
      ],
      "image/png": "[encoded data removed]"
     },
     "metadata": {},
     "output_type": "display_data"
    }
   ],
   "execution_count": 109
  },
  {
   "metadata": {
    "ExecuteTime": {
     "end_time": "2025-04-18T09:57:31.080164Z",
     "start_time": "2025-04-18T09:57:30.996833Z"
    }
   },
   "cell_type": "code",
   "source": [
    "data['sex_num'] = data['sex'].map({'male': 0, 'female': 1})\n",
    "\n",
    "plt.figure(figsize=(6,4))\n",
    "plt.scatter(data['age'], data['sex_num'], alpha=0.5, c=data['sex_num'], cmap='coolwarm')\n",
    "plt.yticks([0, 1], ['Male', 'Female'])\n",
    "plt.title(\"Sebaran Umur dan Jenis Kelamin\")\n",
    "plt.xlabel(\"Umur\")\n",
    "plt.ylabel(\"Jenis Kelamin\")\n",
    "plt.tight_layout()\n",
    "plt.show()\n"
   ],
   "id": "4f42d0e22863c91d",
   "outputs": [
    {
     "data": {
      "text/plain": [
       "<Figure size 600x400 with 1 Axes>"
      ],
      "image/png": "[encoded data removed]"
     },
     "metadata": {},
     "output_type": "display_data"
    }
   ],
   "execution_count": 119
  }
 ],
 "metadata": {
  "kernelspec": {
   "display_name": "Python 3",
   "language": "python",
   "name": "python3"
  },
  "language_info": {
   "codemirror_mode": {
    "name": "ipython",
    "version": 2
   },
   "file_extension": ".py",
   "mimetype": "text/x-python",
   "name": "python",
   "nbconvert_exporter": "python",
   "pygments_lexer": "ipython2",
   "version": "2.7.6"
  }
 },
 "nbformat": 4,
 "nbformat_minor": 5
}
